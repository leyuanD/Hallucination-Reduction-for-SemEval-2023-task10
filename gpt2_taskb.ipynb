{
 "cells": [
  {
   "cell_type": "code",
   "execution_count": 1,
   "metadata": {},
   "outputs": [
    {
     "name": "stderr",
     "output_type": "stream",
     "text": [
      "/home/anaconda3/envs/aung/lib/python3.10/site-packages/tqdm/auto.py:21: TqdmWarning: IProgress not found. Please update jupyter and ipywidgets. See https://ipywidgets.readthedocs.io/en/stable/user_install.html\n",
      "  from .autonotebook import tqdm as notebook_tqdm\n"
     ]
    }
   ],
   "source": [
    "# Library for Data Preparation\n",
    "import pandas as pd\n",
    "import re\n",
    "\n",
    "# Library for Classificaton Model\n",
    "import numpy as np\n",
    "\n",
    "import torch\n",
    "from torch.utils.data import Dataset, DataLoader\n",
    "\n",
    "from transformers import (\n",
    "    set_seed,\n",
    "    GPT2Config,\n",
    "    GPT2Tokenizer,\n",
    "    GPT2ForSequenceClassification,\n",
    "    AdamW,\n",
    "    get_cosine_schedule_with_warmup,\n",
    "    TrainingArguments,\n",
    "    Trainer,\n",
    ")\n",
    "\n",
    "from sklearn.metrics import accuracy_score, classification_report\n",
    "import matplotlib.pyplot as plt\n",
    "import seaborn as sns\n",
    "%matplotlib inline"
   ]
  },
  {
   "cell_type": "markdown",
   "metadata": {},
   "source": [
    "# load data"
   ]
  },
  {
   "cell_type": "code",
   "execution_count": 2,
   "metadata": {},
   "outputs": [
    {
     "name": "stdout",
     "output_type": "stream",
     "text": [
      "fatal: destination path 'edos' already exists and is not an empty directory.\n"
     ]
    }
   ],
   "source": [
    "# Download dataset\n",
    "!git clone https://github.com/rewire-online/edos.git "
   ]
  },
  {
   "cell_type": "code",
   "execution_count": 3,
   "metadata": {},
   "outputs": [],
   "source": [
    "# Define the path to the CSV files\n",
    "csv_labelled_aggregated = 'edos/data/edos_labelled_aggregated.csv'\n",
    "csv_labelled_individual_annotations = 'edos/data/edos_labelled_individual_annotations.csv'\n",
    "csv_gab_unlabelled = 'edos/data/gab_1M_unlabelled.csv'\n",
    "csv_reddit_unlabelled = 'edos/data/reddit_1M_unlabelled.csv'"
   ]
  },
  {
   "cell_type": "code",
   "execution_count": 4,
   "metadata": {},
   "outputs": [
    {
     "data": {
      "text/html": [
       "<div>\n",
       "<style scoped>\n",
       "    .dataframe tbody tr th:only-of-type {\n",
       "        vertical-align: middle;\n",
       "    }\n",
       "\n",
       "    .dataframe tbody tr th {\n",
       "        vertical-align: top;\n",
       "    }\n",
       "\n",
       "    .dataframe thead th {\n",
       "        text-align: right;\n",
       "    }\n",
       "</style>\n",
       "<table border=\"1\" class=\"dataframe\">\n",
       "  <thead>\n",
       "    <tr style=\"text-align: right;\">\n",
       "      <th></th>\n",
       "      <th>rewire_id</th>\n",
       "      <th>text</th>\n",
       "      <th>label_sexist</th>\n",
       "      <th>label_category</th>\n",
       "      <th>label_vector</th>\n",
       "      <th>split</th>\n",
       "    </tr>\n",
       "  </thead>\n",
       "  <tbody>\n",
       "    <tr>\n",
       "      <th>0</th>\n",
       "      <td>sexism2022_english-9609</td>\n",
       "      <td>In Nigeria, if you rape a woman, the men rape ...</td>\n",
       "      <td>not sexist</td>\n",
       "      <td>none</td>\n",
       "      <td>none</td>\n",
       "      <td>dev</td>\n",
       "    </tr>\n",
       "    <tr>\n",
       "      <th>1</th>\n",
       "      <td>sexism2022_english-16993</td>\n",
       "      <td>Then, she's a keeper. 😉</td>\n",
       "      <td>not sexist</td>\n",
       "      <td>none</td>\n",
       "      <td>none</td>\n",
       "      <td>train</td>\n",
       "    </tr>\n",
       "    <tr>\n",
       "      <th>2</th>\n",
       "      <td>sexism2022_english-13149</td>\n",
       "      <td>This is like the Metallica video where the poo...</td>\n",
       "      <td>not sexist</td>\n",
       "      <td>none</td>\n",
       "      <td>none</td>\n",
       "      <td>train</td>\n",
       "    </tr>\n",
       "    <tr>\n",
       "      <th>3</th>\n",
       "      <td>sexism2022_english-13021</td>\n",
       "      <td>woman?</td>\n",
       "      <td>not sexist</td>\n",
       "      <td>none</td>\n",
       "      <td>none</td>\n",
       "      <td>train</td>\n",
       "    </tr>\n",
       "    <tr>\n",
       "      <th>4</th>\n",
       "      <td>sexism2022_english-966</td>\n",
       "      <td>I bet she wished she had a gun</td>\n",
       "      <td>not sexist</td>\n",
       "      <td>none</td>\n",
       "      <td>none</td>\n",
       "      <td>dev</td>\n",
       "    </tr>\n",
       "  </tbody>\n",
       "</table>\n",
       "</div>"
      ],
      "text/plain": [
       "                  rewire_id  \\\n",
       "0   sexism2022_english-9609   \n",
       "1  sexism2022_english-16993   \n",
       "2  sexism2022_english-13149   \n",
       "3  sexism2022_english-13021   \n",
       "4    sexism2022_english-966   \n",
       "\n",
       "                                                text label_sexist  \\\n",
       "0  In Nigeria, if you rape a woman, the men rape ...   not sexist   \n",
       "1                            Then, she's a keeper. 😉   not sexist   \n",
       "2  This is like the Metallica video where the poo...   not sexist   \n",
       "3                                             woman?   not sexist   \n",
       "4                     I bet she wished she had a gun   not sexist   \n",
       "\n",
       "  label_category label_vector  split  \n",
       "0           none         none    dev  \n",
       "1           none         none  train  \n",
       "2           none         none  train  \n",
       "3           none         none  train  \n",
       "4           none         none    dev  "
      ]
     },
     "execution_count": 4,
     "metadata": {},
     "output_type": "execute_result"
    }
   ],
   "source": [
    "# Read labelled data\n",
    "data_labelled_1 = pd.read_csv(csv_labelled_aggregated)\n",
    "data_labelled_1.head()"
   ]
  },
  {
   "cell_type": "code",
   "execution_count": 5,
   "metadata": {},
   "outputs": [
    {
     "data": {
      "text/html": [
       "<div>\n",
       "<style scoped>\n",
       "    .dataframe tbody tr th:only-of-type {\n",
       "        vertical-align: middle;\n",
       "    }\n",
       "\n",
       "    .dataframe tbody tr th {\n",
       "        vertical-align: top;\n",
       "    }\n",
       "\n",
       "    .dataframe thead th {\n",
       "        text-align: right;\n",
       "    }\n",
       "</style>\n",
       "<table border=\"1\" class=\"dataframe\">\n",
       "  <thead>\n",
       "    <tr style=\"text-align: right;\">\n",
       "      <th></th>\n",
       "      <th>rewire_id</th>\n",
       "      <th>text</th>\n",
       "      <th>label_sexist</th>\n",
       "      <th>label_category</th>\n",
       "      <th>label_vector</th>\n",
       "      <th>split</th>\n",
       "    </tr>\n",
       "  </thead>\n",
       "  <tbody>\n",
       "    <tr>\n",
       "      <th>0</th>\n",
       "      <td>sexism2022_english-0</td>\n",
       "      <td>[USER] I wonder what keeps that witch looking ...</td>\n",
       "      <td>sexist</td>\n",
       "      <td>2. derogation</td>\n",
       "      <td>2.2 aggressive and emotive attacks</td>\n",
       "      <td>train</td>\n",
       "    </tr>\n",
       "    <tr>\n",
       "      <th>1</th>\n",
       "      <td>sexism2022_english-0</td>\n",
       "      <td>[USER] I wonder what keeps that witch looking ...</td>\n",
       "      <td>sexist</td>\n",
       "      <td>2. derogation</td>\n",
       "      <td>2.2 aggressive and emotive attacks</td>\n",
       "      <td>train</td>\n",
       "    </tr>\n",
       "    <tr>\n",
       "      <th>2</th>\n",
       "      <td>sexism2022_english-0</td>\n",
       "      <td>[USER] I wonder what keeps that witch looking ...</td>\n",
       "      <td>not sexist</td>\n",
       "      <td>none</td>\n",
       "      <td>none</td>\n",
       "      <td>train</td>\n",
       "    </tr>\n",
       "    <tr>\n",
       "      <th>3</th>\n",
       "      <td>sexism2022_english-1</td>\n",
       "      <td>What do you guys think about female \"incels\"? ...</td>\n",
       "      <td>not sexist</td>\n",
       "      <td>none</td>\n",
       "      <td>none</td>\n",
       "      <td>train</td>\n",
       "    </tr>\n",
       "    <tr>\n",
       "      <th>4</th>\n",
       "      <td>sexism2022_english-1</td>\n",
       "      <td>What do you guys think about female \"incels\"? ...</td>\n",
       "      <td>not sexist</td>\n",
       "      <td>none</td>\n",
       "      <td>none</td>\n",
       "      <td>train</td>\n",
       "    </tr>\n",
       "  </tbody>\n",
       "</table>\n",
       "</div>"
      ],
      "text/plain": [
       "              rewire_id                                               text  \\\n",
       "0  sexism2022_english-0  [USER] I wonder what keeps that witch looking ...   \n",
       "1  sexism2022_english-0  [USER] I wonder what keeps that witch looking ...   \n",
       "2  sexism2022_english-0  [USER] I wonder what keeps that witch looking ...   \n",
       "3  sexism2022_english-1  What do you guys think about female \"incels\"? ...   \n",
       "4  sexism2022_english-1  What do you guys think about female \"incels\"? ...   \n",
       "\n",
       "  label_sexist label_category                        label_vector  split  \n",
       "0       sexist  2. derogation  2.2 aggressive and emotive attacks  train  \n",
       "1       sexist  2. derogation  2.2 aggressive and emotive attacks  train  \n",
       "2   not sexist           none                                none  train  \n",
       "3   not sexist           none                                none  train  \n",
       "4   not sexist           none                                none  train  "
      ]
     },
     "execution_count": 5,
     "metadata": {},
     "output_type": "execute_result"
    }
   ],
   "source": [
    "# Read labelled data\n",
    "data_labelled_2 = pd.read_csv(csv_labelled_individual_annotations)\n",
    "data_labelled_2 = data_labelled_2.drop(columns=['annotator'], inplace=False)\n",
    "data_labelled_2.head()"
   ]
  },
  {
   "cell_type": "code",
   "execution_count": 6,
   "metadata": {},
   "outputs": [
    {
     "data": {
      "text/plain": [
       "rewire_id         80000\n",
       "text              80000\n",
       "label_sexist      80000\n",
       "label_category    80000\n",
       "label_vector      80000\n",
       "split             80000\n",
       "dtype: int64"
      ]
     },
     "execution_count": 6,
     "metadata": {},
     "output_type": "execute_result"
    }
   ],
   "source": [
    "# Concat data_labelled_1 and data_labelled_2\n",
    "data_labelled = pd.concat([data_labelled_1, data_labelled_2])\n",
    "data_labelled.count()"
   ]
  },
  {
   "cell_type": "code",
   "execution_count": 7,
   "metadata": {},
   "outputs": [
    {
     "data": {
      "text/html": [
       "<div>\n",
       "<style scoped>\n",
       "    .dataframe tbody tr th:only-of-type {\n",
       "        vertical-align: middle;\n",
       "    }\n",
       "\n",
       "    .dataframe tbody tr th {\n",
       "        vertical-align: top;\n",
       "    }\n",
       "\n",
       "    .dataframe thead th {\n",
       "        text-align: right;\n",
       "    }\n",
       "</style>\n",
       "<table border=\"1\" class=\"dataframe\">\n",
       "  <thead>\n",
       "    <tr style=\"text-align: right;\">\n",
       "      <th></th>\n",
       "      <th>text</th>\n",
       "      <th>label_category</th>\n",
       "      <th>split</th>\n",
       "    </tr>\n",
       "  </thead>\n",
       "  <tbody>\n",
       "    <tr>\n",
       "      <th>0</th>\n",
       "      <td>In Nigeria, if you rape a woman, the men rape ...</td>\n",
       "      <td>none</td>\n",
       "      <td>dev</td>\n",
       "    </tr>\n",
       "    <tr>\n",
       "      <th>1</th>\n",
       "      <td>Then, she's a keeper. 😉</td>\n",
       "      <td>none</td>\n",
       "      <td>train</td>\n",
       "    </tr>\n",
       "    <tr>\n",
       "      <th>2</th>\n",
       "      <td>This is like the Metallica video where the poo...</td>\n",
       "      <td>none</td>\n",
       "      <td>train</td>\n",
       "    </tr>\n",
       "    <tr>\n",
       "      <th>3</th>\n",
       "      <td>woman?</td>\n",
       "      <td>none</td>\n",
       "      <td>train</td>\n",
       "    </tr>\n",
       "    <tr>\n",
       "      <th>4</th>\n",
       "      <td>I bet she wished she had a gun</td>\n",
       "      <td>none</td>\n",
       "      <td>dev</td>\n",
       "    </tr>\n",
       "  </tbody>\n",
       "</table>\n",
       "</div>"
      ],
      "text/plain": [
       "                                                text label_category  split\n",
       "0  In Nigeria, if you rape a woman, the men rape ...           none    dev\n",
       "1                            Then, she's a keeper. 😉           none  train\n",
       "2  This is like the Metallica video where the poo...           none  train\n",
       "3                                             woman?           none  train\n",
       "4                     I bet she wished she had a gun           none    dev"
      ]
     },
     "execution_count": 7,
     "metadata": {},
     "output_type": "execute_result"
    }
   ],
   "source": [
    "# Load data for Task B\n",
    "selected_columns_taskB = ['text', 'label_category', 'split']\n",
    "data_labelled_taskB = data_labelled[selected_columns_taskB]\n",
    "data_labelled_taskB.head()"
   ]
  },
  {
   "cell_type": "code",
   "execution_count": 8,
   "metadata": {},
   "outputs": [
    {
     "name": "stdout",
     "output_type": "stream",
     "text": [
      "Train Data:\n",
      " text              56000\n",
      "label_category    56000\n",
      "dtype: int64 \n",
      "\n",
      "Validation Data:\n",
      " text              8000\n",
      "label_category    8000\n",
      "dtype: int64 \n",
      "\n",
      "Test Data:\n",
      " text              16000\n",
      "label_category    16000\n",
      "dtype: int64\n"
     ]
    }
   ],
   "source": [
    "# Split into Train, Validate and Test\n",
    "data_train_taskB = data_labelled_taskB[data_labelled_taskB['split'] == 'train']\n",
    "data_train_taskB = data_train_taskB.drop('split', axis=1)\n",
    "print(\"Train Data:\\n\", data_train_taskB.count(), \"\\n\")\n",
    "\n",
    "data_val_taskB = data_labelled_taskB[data_labelled_taskB['split'] == 'dev']\n",
    "data_val_taskB = data_val_taskB.drop('split', axis=1)\n",
    "print(\"Validation Data:\\n\", data_val_taskB.count(), \"\\n\")\n",
    "\n",
    "data_test_taskB = data_labelled_taskB[data_labelled_taskB['split'] == 'test']\n",
    "data_test_taskB = data_test_taskB.drop('split', axis=1)\n",
    "print(\"Test Data:\\n\", data_test_taskB.count())"
   ]
  },
  {
   "cell_type": "code",
   "execution_count": 10,
   "metadata": {},
   "outputs": [],
   "source": [
    "#drop the none column\n",
    "index = data_train_taskB[ (data_train_taskB['label_category'] == 'none')  ].index\n",
    "data_train_taskB.drop(index , inplace=True)"
   ]
  },
  {
   "cell_type": "code",
   "execution_count": 11,
   "metadata": {},
   "outputs": [
    {
     "name": "stdout",
     "output_type": "stream",
     "text": [
      "Train Data:\n",
      " text              10399\n",
      "label_category    10399\n",
      "dtype: int64 \n",
      "\n",
      "Validation Data:\n",
      " text              1905\n",
      "label_category    1905\n",
      "dtype: int64 \n",
      "\n",
      "Test Data:\n",
      " text              3799\n",
      "label_category    3799\n",
      "dtype: int64\n"
     ]
    }
   ],
   "source": [
    "index = data_val_taskB[ (data_val_taskB['label_category'] == 'none')  ].index\n",
    "data_val_taskB.drop(index , inplace=True)\n",
    "\n",
    "index = data_test_taskB[ (data_test_taskB['label_category'] == 'none')  ].index\n",
    "data_test_taskB.drop(index , inplace=True)\n",
    "\n",
    "print(\"Train Data:\\n\", data_train_taskB.count(), \"\\n\")\n",
    "print(\"Validation Data:\\n\", data_val_taskB.count(), \"\\n\")\n",
    "print(\"Test Data:\\n\", data_test_taskB.count())"
   ]
  },
  {
   "cell_type": "markdown",
   "metadata": {},
   "source": [
    "## clean"
   ]
  },
  {
   "cell_type": "code",
   "execution_count": 12,
   "metadata": {},
   "outputs": [],
   "source": [
    "def clean_text(text):\n",
    "    text = re.sub(r\"@[A-Za-z0-9]+\", ' ', text)\n",
    "    text = re.sub(r\"https?://[A-Za-z0-9./]+\", ' ', text)\n",
    "    text = re.sub(r\"[^a-zA-z.!?'0-9]\", ' ', text)\n",
    "    text = re.sub('\\t', ' ',  text)\n",
    "    text = re.sub(r\" +\", ' ', text)\n",
    "    text=re.sub(r'[^\\w\\s]','',text)\n",
    "    text=text.replace(\"[URL]\",\"\")\n",
    "    text=text.replace(\"[USER]\",\"\")\n",
    "    text=re.sub(r\"[â€™ºðŸ‡˜Žµ±¤£‘Œ”œ]\",\"\",text)\n",
    "    return text\n",
    "\n",
    "#Removing the square brackets\n",
    "def remove_between_square_brackets(text):\n",
    "    return re.sub('\\[[^]]*\\]', '', text)\n",
    "\n",
    "#Removing the noisy text\n",
    "def denoise_text(text):\n",
    "\n",
    "    text = remove_between_square_brackets(text)\n",
    "    return text\n",
    "\n",
    "# to make all texts lowercase\n",
    "def to_lowercase(input_text):\n",
    "\n",
    "    return input_text.lower()"
   ]
  },
  {
   "cell_type": "code",
   "execution_count": 13,
   "metadata": {},
   "outputs": [],
   "source": [
    "data_train_taskB['text'] = data_train_taskB['text'].apply(clean_text)\n",
    "data_train_taskB['text'] = data_train_taskB['text'].apply(denoise_text)\n",
    "data_train_taskB['text'] = data_train_taskB['text'].apply(to_lowercase)\n",
    "\n",
    "data_val_taskB['text'] = data_val_taskB['text'].apply(clean_text)\n",
    "data_val_taskB['text'] = data_val_taskB['text'].apply(denoise_text)\n",
    "data_val_taskB['text'] = data_val_taskB['text'].apply(to_lowercase)\n",
    "\n",
    "data_test_taskB['text'] = data_test_taskB['text'].apply(clean_text)\n",
    "data_test_taskB['text'] = data_test_taskB['text'].apply(denoise_text)\n",
    "data_test_taskB['text'] = data_test_taskB['text'].apply(to_lowercase)"
   ]
  },
  {
   "cell_type": "markdown",
   "metadata": {},
   "source": [
    "## to dataset object"
   ]
  },
  {
   "cell_type": "code",
   "execution_count": 14,
   "metadata": {},
   "outputs": [
    {
     "data": {
      "text/html": [
       "<div>\n",
       "<style scoped>\n",
       "    .dataframe tbody tr th:only-of-type {\n",
       "        vertical-align: middle;\n",
       "    }\n",
       "\n",
       "    .dataframe tbody tr th {\n",
       "        vertical-align: top;\n",
       "    }\n",
       "\n",
       "    .dataframe thead th {\n",
       "        text-align: right;\n",
       "    }\n",
       "</style>\n",
       "<table border=\"1\" class=\"dataframe\">\n",
       "  <thead>\n",
       "    <tr style=\"text-align: right;\">\n",
       "      <th></th>\n",
       "      <th>text</th>\n",
       "      <th>label_category</th>\n",
       "    </tr>\n",
       "  </thead>\n",
       "  <tbody>\n",
       "    <tr>\n",
       "      <th>14</th>\n",
       "      <td>o come on theres no way any men are attracted ...</td>\n",
       "      <td>2. derogation</td>\n",
       "    </tr>\n",
       "    <tr>\n",
       "      <th>32</th>\n",
       "      <td>i did you have to have the bravery to escalate...</td>\n",
       "      <td>1. threats, plans to harm and incitement</td>\n",
       "    </tr>\n",
       "    <tr>\n",
       "      <th>41</th>\n",
       "      <td>not going to lie the brutal honesty of this re...</td>\n",
       "      <td>4. prejudiced discussions</td>\n",
       "    </tr>\n",
       "    <tr>\n",
       "      <th>43</th>\n",
       "      <td>please take my wife rape my daughter but whate...</td>\n",
       "      <td>1. threats, plans to harm and incitement</td>\n",
       "    </tr>\n",
       "    <tr>\n",
       "      <th>46</th>\n",
       "      <td>pink is very feminine so i accept this bikini ...</td>\n",
       "      <td>3. animosity</td>\n",
       "    </tr>\n",
       "    <tr>\n",
       "      <th>...</th>\n",
       "      <td>...</td>\n",
       "      <td>...</td>\n",
       "    </tr>\n",
       "    <tr>\n",
       "      <th>59964</th>\n",
       "      <td>she should be strung up no drop let her kick a...</td>\n",
       "      <td>1. threats, plans to harm and incitement</td>\n",
       "    </tr>\n",
       "    <tr>\n",
       "      <th>59965</th>\n",
       "      <td>she should be strung up no drop let her kick a...</td>\n",
       "      <td>1. threats, plans to harm and incitement</td>\n",
       "    </tr>\n",
       "    <tr>\n",
       "      <th>59966</th>\n",
       "      <td>she should be strung up no drop let her kick a...</td>\n",
       "      <td>1. threats, plans to harm and incitement</td>\n",
       "    </tr>\n",
       "    <tr>\n",
       "      <th>59997</th>\n",
       "      <td>laura bates lol she looks like shed suck the s...</td>\n",
       "      <td>2. derogation</td>\n",
       "    </tr>\n",
       "    <tr>\n",
       "      <th>59999</th>\n",
       "      <td>laura bates lol she looks like shed suck the s...</td>\n",
       "      <td>2. derogation</td>\n",
       "    </tr>\n",
       "  </tbody>\n",
       "</table>\n",
       "<p>10399 rows × 2 columns</p>\n",
       "</div>"
      ],
      "text/plain": [
       "                                                    text  \\\n",
       "14     o come on theres no way any men are attracted ...   \n",
       "32     i did you have to have the bravery to escalate...   \n",
       "41     not going to lie the brutal honesty of this re...   \n",
       "43     please take my wife rape my daughter but whate...   \n",
       "46     pink is very feminine so i accept this bikini ...   \n",
       "...                                                  ...   \n",
       "59964  she should be strung up no drop let her kick a...   \n",
       "59965  she should be strung up no drop let her kick a...   \n",
       "59966  she should be strung up no drop let her kick a...   \n",
       "59997  laura bates lol she looks like shed suck the s...   \n",
       "59999  laura bates lol she looks like shed suck the s...   \n",
       "\n",
       "                                 label_category  \n",
       "14                                2. derogation  \n",
       "32     1. threats, plans to harm and incitement  \n",
       "41                    4. prejudiced discussions  \n",
       "43     1. threats, plans to harm and incitement  \n",
       "46                                 3. animosity  \n",
       "...                                         ...  \n",
       "59964  1. threats, plans to harm and incitement  \n",
       "59965  1. threats, plans to harm and incitement  \n",
       "59966  1. threats, plans to harm and incitement  \n",
       "59997                             2. derogation  \n",
       "59999                             2. derogation  \n",
       "\n",
       "[10399 rows x 2 columns]"
      ]
     },
     "execution_count": 14,
     "metadata": {},
     "output_type": "execute_result"
    }
   ],
   "source": [
    "data_train_taskB"
   ]
  },
  {
   "cell_type": "code",
   "execution_count": 15,
   "metadata": {},
   "outputs": [],
   "source": [
    "class SeximsDataset(Dataset):\n",
    "    def __init__(self, data):\n",
    "        super().__init__()\n",
    "        self.data = data\n",
    "\n",
    "    def __len__(self):\n",
    "        return len(self.data)\n",
    "    \n",
    "    def __getitem__(self, index):\n",
    "        record = self.data.iloc[index]\n",
    "        text = record['text']\n",
    "        label = record['label_category']\n",
    "        if label == '1. threats, plans to harm and incitement':\n",
    "            label = 0\n",
    "        elif label == '2. derogation':\n",
    "            label = 1\n",
    "        elif label == '3. animosity':\n",
    "            label = 2\n",
    "        else:\n",
    "            label = 3\n",
    "        return {'text': text, 'label': label} "
   ]
  },
  {
   "cell_type": "code",
   "execution_count": 16,
   "metadata": {},
   "outputs": [],
   "source": [
    "train_dataset = SeximsDataset(data_train_taskB)\n",
    "val_dataset = SeximsDataset(data_val_taskB)\n",
    "test_dataset = SeximsDataset(data_test_taskB)"
   ]
  },
  {
   "cell_type": "markdown",
   "metadata": {},
   "source": [
    "# Train "
   ]
  },
  {
   "cell_type": "code",
   "execution_count": 17,
   "metadata": {},
   "outputs": [],
   "source": [
    "tokenizer = GPT2Tokenizer.from_pretrained(\"gpt2\")\n",
    "tokenizer.padding_side = \"left\"\n",
    "tokenizer.pad_token = tokenizer.eos_token"
   ]
  },
  {
   "cell_type": "code",
   "execution_count": 18,
   "metadata": {},
   "outputs": [],
   "source": [
    "class Gpt2ClassificationCollator(object):\n",
    "    def __init__(self, tokenizer, max_seq_len=None):\n",
    "        self.tokenizer = tokenizer\n",
    "        self.max_seq_len = max_seq_len\n",
    "        return\n",
    "    \n",
    "    def __call__(self, sequences):\n",
    "        texts = [sequence['text'] for sequence in sequences]\n",
    "        labels = [int(sequence['label']) for sequence in sequences]\n",
    "        inputs = self.tokenizer(\n",
    "            text=texts,\n",
    "            return_tensors='pt',\n",
    "            padding=True,\n",
    "            truncation=True,\n",
    "            max_length=self.max_seq_len,\n",
    "        )\n",
    "        inputs.update({'labels': torch.tensor(labels)})\n",
    "        return inputs"
   ]
  },
  {
   "cell_type": "code",
   "execution_count": 19,
   "metadata": {},
   "outputs": [],
   "source": [
    "gpt2_classification_collator = Gpt2ClassificationCollator(tokenizer, max_seq_len=256)"
   ]
  },
  {
   "cell_type": "code",
   "execution_count": 20,
   "metadata": {},
   "outputs": [],
   "source": [
    "train_dataloader = DataLoader(\n",
    "    dataset=train_dataset,\n",
    "    batch_size=32,\n",
    "    shuffle=True,\n",
    "    collate_fn=gpt2_classification_collator,\n",
    ")\n",
    "\n",
    "val_dataloader = DataLoader(\n",
    "    dataset=val_dataset,\n",
    "    batch_size=32,\n",
    "    shuffle=False,\n",
    "    collate_fn=gpt2_classification_collator,\n",
    ")\n",
    "\n",
    "test_dataloader = DataLoader(\n",
    "    dataset=test_dataset,\n",
    "    batch_size=32,\n",
    "    shuffle=False,\n",
    "    collate_fn=gpt2_classification_collator,\n",
    ")"
   ]
  },
  {
   "cell_type": "code",
   "execution_count": 22,
   "metadata": {},
   "outputs": [
    {
     "name": "stderr",
     "output_type": "stream",
     "text": [
      "Some weights of GPT2ForSequenceClassification were not initialized from the model checkpoint at gpt2 and are newly initialized: ['score.weight']\n",
      "You should probably TRAIN this model on a down-stream task to be able to use it for predictions and inference.\n"
     ]
    }
   ],
   "source": [
    "set_seed(36)\n",
    "model_config = GPT2Config.from_pretrained(\"gpt2\", num_labels=4)\n",
    "model = GPT2ForSequenceClassification.from_pretrained(\"gpt2\", config=model_config)\n",
    "model.resize_token_embeddings(len(tokenizer))\n",
    "model.config.pad_token_id = model.config.eos_token_id"
   ]
  },
  {
   "cell_type": "code",
   "execution_count": 23,
   "metadata": {},
   "outputs": [
    {
     "name": "stderr",
     "output_type": "stream",
     "text": [
      "/home/anaconda3/envs/aung/lib/python3.10/site-packages/transformers/optimization.py:411: FutureWarning: This implementation of AdamW is deprecated and will be removed in a future version. Use the PyTorch implementation torch.optim.AdamW instead, or set `no_deprecation_warning=True` to disable this warning\n",
      "  warnings.warn(\n"
     ]
    }
   ],
   "source": [
    "TOTAL_EPOCHS = 5\n",
    "\n",
    "param_optimizer = list(model.named_parameters())\n",
    "no_decay = [\"bias\", \"LayerNorm.bias\", \"LayerNorm.weight\"]\n",
    "optimizer_grouped_parameters = [\n",
    "    {\n",
    "        'params': [p for n, p in param_optimizer if not any(nd in n for nd in no_decay)],\n",
    "        'weight_decay': 0.01,\n",
    "    },\n",
    "    {\n",
    "        'params': [p for n, p in param_optimizer if any(nd in n for nd in no_decay)],\n",
    "        'weight_decay': 0.0,\n",
    "    }\n",
    "]\n",
    "optimizer = AdamW(\n",
    "    optimizer_grouped_parameters,\n",
    "    lr=1e-5,\n",
    "    eps=1e-8,\n",
    ")\n",
    "\n",
    "num_training_steps = TOTAL_EPOCHS * len(train_dataloader)\n",
    "num_warmup_steps = int(0.1 * num_training_steps)\n",
    "\n",
    "lr_scheduler = get_cosine_schedule_with_warmup(\n",
    "    optimizer,\n",
    "    num_warmup_steps=num_warmup_steps,\n",
    "    num_training_steps=num_training_steps,\n",
    ")"
   ]
  },
  {
   "cell_type": "code",
   "execution_count": 24,
   "metadata": {},
   "outputs": [],
   "source": [
    "def train(dataloader, optimizer, scheduler, device_):\n",
    "    global model\n",
    "    model.train()\n",
    "\n",
    "    predictions_labels = []\n",
    "    true_labels = []\n",
    "\n",
    "    total_loss = []\n",
    "\n",
    "    for batch in dataloader:\n",
    "        true_labels += batch['labels'].numpy().flatten().tolist()\n",
    "        batch = {k: v.type(torch.long).to(device_) for k, v in batch.items()}\n",
    "\n",
    "        outputs = model(**batch)\n",
    "        loss, logits = outputs[:2]\n",
    "        logits = logits.detach().cpu().numpy()\n",
    "        total_loss.append(loss.item())\n",
    "\n",
    "        optimizer.zero_grad()\n",
    "        loss.backward()\n",
    "        torch.nn.utils.clip_grad_norm_(model.parameters(), 1.0)\n",
    "\n",
    "        optimizer.step()\n",
    "        scheduler.step()\n",
    "\n",
    "        predictions_labels += logits.argmax(axis=-1).flatten().tolist()\n",
    "\n",
    "    return true_labels, predictions_labels, total_loss\n",
    "\n",
    "def validation(dataloader, device_):\n",
    "    global model\n",
    "    model.eval()\n",
    "\n",
    "    predictions_labels = []\n",
    "    true_labels = []\n",
    "\n",
    "    total_loss = []\n",
    "\n",
    "    for batch in dataloader:\n",
    "        true_labels += batch['labels'].numpy().flatten().tolist()\n",
    "        batch = {k: v.type(torch.long).to(device_) for k, v in batch.items()}\n",
    "\n",
    "        with torch.no_grad():\n",
    "            outputs = model(**batch)\n",
    "            loss, logits = outputs[:2]\n",
    "            logits = logits.detach().cpu().numpy()\n",
    "            total_loss.append(loss.item())\n",
    "\n",
    "        predictions_labels += logits.argmax(axis=-1).flatten().tolist()\n",
    "    return true_labels, predictions_labels, total_loss"
   ]
  },
  {
   "cell_type": "code",
   "execution_count": 25,
   "metadata": {},
   "outputs": [
    {
     "name": "stdout",
     "output_type": "stream",
     "text": [
      "Epoch: 0, train_loss: 1.463, train_acc: 0.406, val_loss: 1.131, val_acc: 0.482\n",
      "Epoch: 1, train_loss: 1.100, train_acc: 0.491, val_loss: 1.046, val_acc: 0.511\n",
      "Epoch: 2, train_loss: 1.023, train_acc: 0.525, val_loss: 1.018, val_acc: 0.519\n",
      "Epoch: 3, train_loss: 0.987, train_acc: 0.543, val_loss: 0.994, val_acc: 0.532\n",
      "Epoch: 4, train_loss: 0.970, train_acc: 0.556, val_loss: 0.991, val_acc: 0.537\n"
     ]
    }
   ],
   "source": [
    "device = 'cuda' if torch.cuda.is_available() else 'cpu'\n",
    "model.to(device)\n",
    "\n",
    "all_loss = {'train_loss': [], 'val_loss': []}\n",
    "all_acc = {'train_acc': [], 'val_acc': []}\n",
    "\n",
    "for epoch in range(TOTAL_EPOCHS):\n",
    "    y, y_pred, train_loss = train(train_dataloader, optimizer, lr_scheduler, device)\n",
    "\n",
    "    train_acc = accuracy_score(y, y_pred)\n",
    "\n",
    "    y, y_pred, val_loss = validation(val_dataloader, device)\n",
    "    val_acc = accuracy_score(y, y_pred)\n",
    "\n",
    "    all_loss['train_loss'] += train_loss\n",
    "    all_loss['val_loss'] += val_loss\n",
    "\n",
    "    all_acc['train_acc'].append(train_acc)\n",
    "    all_acc['val_acc'].append(val_acc)\n",
    "\n",
    "    print(f'Epoch: {epoch}, train_loss: {torch.tensor(train_loss).mean():.3f}, train_acc: {train_acc:.3f}, val_loss: {torch.tensor(val_loss).mean():.3f}, val_acc: {val_acc:.3f}')\n",
    "\n",
    "    model.save_pretrained('./')\n",
    "    tokenizer.save_pretrained('./')"
   ]
  },
  {
   "cell_type": "code",
   "execution_count": 26,
   "metadata": {},
   "outputs": [
    {
     "data": {
      "text/plain": [
       "<matplotlib.legend.Legend at 0x7f28faab7eb0>"
      ]
     },
     "execution_count": 26,
     "metadata": {},
     "output_type": "execute_result"
    },
    {
     "data": {
      "image/png": "[encoded data removed]",
      "text/plain": [
       "<Figure size 500x1000 with 3 Axes>"
      ]
     },
     "metadata": {},
     "output_type": "display_data"
    }
   ],
   "source": [
    "fig = plt.figure(figsize=(5, 10))\n",
    "\n",
    "a = fig.add_subplot(4, 1, 1)\n",
    "b = fig.add_subplot(4, 1, 2)\n",
    "c = fig.add_subplot(4, 1, 3)\n",
    "\n",
    "a.plot(all_loss['train_loss'], label='Train Loss')\n",
    "b.plot(all_loss['val_loss'], label='Val Loss')\n",
    "c.plot(all_acc['train_acc'], label='Train Accuracy')\n",
    "c.plot(all_acc['val_acc'], label='Val Accuracy')\n",
    "c.set(xlabel='Epochs', ylabel='Accuracy')\n",
    "c.legend(['Train', 'Validation'])"
   ]
  },
  {
   "cell_type": "code",
   "execution_count": 27,
   "metadata": {},
   "outputs": [
    {
     "name": "stdout",
     "output_type": "stream",
     "text": [
      "Test Loss: 1.004, Test Accuracy: 0.519\n"
     ]
    }
   ],
   "source": [
    "test_y, test_y_pred, test_val_loss =validation(test_dataloader, device)\n",
    "test_val_acc = accuracy_score(test_y, test_y_pred)\n",
    "print(f'Test Loss: {torch.tensor(test_val_loss).mean():.3f}, Test Accuracy: {test_val_acc:.3f}')"
   ]
  }
 ],
 "metadata": {
  "kernelspec": {
   "display_name": "aung",
   "language": "python",
   "name": "python3"
  },
  "language_info": {
   "codemirror_mode": {
    "name": "ipython",
    "version": 3
   },
   "file_extension": ".py",
   "mimetype": "text/x-python",
   "name": "python",
   "nbconvert_exporter": "python",
   "pygments_lexer": "ipython3",
   "version": "3.10.0"
  }
 },
 "nbformat": 4,
 "nbformat_minor": 2
}
