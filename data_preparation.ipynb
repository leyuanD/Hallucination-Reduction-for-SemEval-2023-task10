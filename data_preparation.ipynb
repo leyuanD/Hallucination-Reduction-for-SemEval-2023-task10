{
 "cells": [
  {
   "cell_type": "markdown",
   "metadata": {},
   "source": [
    "1. load data (for all tasks) provided by rewire group\n",
    "2. coontact labeled data from Reddit and Gab"
   ]
  },
  {
   "cell_type": "code",
   "execution_count": null,
   "metadata": {
    "vscode": {
     "languageId": "plaintext"
    }
   },
   "outputs": [],
   "source": [
    "import pandas as pd"
   ]
  },
  {
   "cell_type": "code",
   "execution_count": null,
   "metadata": {
    "vscode": {
     "languageId": "plaintext"
    }
   },
   "outputs": [],
   "source": [
    "!git clone https://github.com/rewire-online/edos.git edos"
   ]
  },
  {
   "cell_type": "code",
   "execution_count": null,
   "metadata": {
    "vscode": {
     "languageId": "plaintext"
    }
   },
   "outputs": [],
   "source": [
    "# Define the path to the CSV file in the cloned repository\n",
    "csv_labelled_aggregated = 'edos/data/edos_labelled_aggregated.csv'\n",
    "csv_labelled_individual_annotations = 'edos/data/edos_labelled_individual_annotations.csv'\n",
    "csv_gab_unlabelled = 'edos/data/gab_1M_unlabelled.csv'\n",
    "csv_reddit_unlabelled = 'edos/data/reddit_1M_unlabelled.csv'"
   ]
  },
  {
   "cell_type": "markdown",
   "metadata": {},
   "source": [
    "## read unlabelled data"
   ]
  },
  {
   "cell_type": "code",
   "execution_count": null,
   "metadata": {
    "vscode": {
     "languageId": "plaintext"
    }
   },
   "outputs": [],
   "source": [
    "#read unlabelled data wichh can be used for model pre-training\n",
    "data_unlabelled_1 = pd.read_csv(csv_gab_unlabelled)\n",
    "data_unlabelled_2 = pd.read_csv(csv_reddit_unlabelled)"
   ]
  },
  {
   "cell_type": "code",
   "execution_count": null,
   "metadata": {
    "vscode": {
     "languageId": "plaintext"
    }
   },
   "outputs": [],
   "source": [
    "data_unlabelled = pd.concat([data_unlabelled_1, data_unlabelled_2])\n",
    "data_unlabelled"
   ]
  },
  {
   "cell_type": "code",
   "execution_count": null,
   "metadata": {
    "vscode": {
     "languageId": "plaintext"
    }
   },
   "outputs": [],
   "source": [
    "#store the unlabelled data\n",
    "%store data_unlabelled"
   ]
  },
  {
   "cell_type": "markdown",
   "metadata": {},
   "source": [
    "# read labelled data"
   ]
  },
  {
   "cell_type": "code",
   "execution_count": null,
   "metadata": {
    "vscode": {
     "languageId": "plaintext"
    }
   },
   "outputs": [],
   "source": [
    "#read labelled data\n",
    "data_labelled_1 = pd.read_csv(csv_labelled_aggregated)\n",
    "data_labelled_2 = pd.read_csv(csv_labelled_individual_annotations)"
   ]
  },
  {
   "cell_type": "code",
   "execution_count": null,
   "metadata": {
    "vscode": {
     "languageId": "plaintext"
    }
   },
   "outputs": [],
   "source": [
    "#remove the \"annotator\" column in data_labelled_2 to keep the same format as data_labelled_1\n",
    "data_labelled_2 = data_labelled_2.drop(columns=['annotator'], inplace=False)"
   ]
  },
  {
   "cell_type": "code",
   "execution_count": null,
   "metadata": {
    "vscode": {
     "languageId": "plaintext"
    }
   },
   "outputs": [],
   "source": [
    "#concat data_labelled_1 and data_labelled_2\n",
    "data_labelled = pd.concat([data_labelled_1, data_labelled_2])\n",
    "data_labelled"
   ]
  },
  {
   "cell_type": "code",
   "execution_count": null,
   "metadata": {
    "vscode": {
     "languageId": "plaintext"
    }
   },
   "outputs": [],
   "source": [
    "#keep the loaded data so that it can be referenced in other notebooks\n",
    "%store data_labelled"
   ]
  },
  {
   "cell_type": "code",
   "execution_count": null,
   "metadata": {
    "vscode": {
     "languageId": "plaintext"
    }
   },
   "outputs": [],
   "source": [
    "#load data for taska and split into train and test\n",
    "selected_columns_taska = ['text', 'label_sexist', 'split']\n",
    "data_labelled_taska = data_labelled[selected_columns_taska]\n",
    "data_labelled_taska"
   ]
  },
  {
   "cell_type": "code",
   "execution_count": null,
   "metadata": {
    "vscode": {
     "languageId": "plaintext"
    }
   },
   "outputs": [],
   "source": [
    "data_train_taska = data_labelled_taska[data_labelled_taska['split'] == 'train']\n",
    "data_train_taska"
   ]
  },
  {
   "cell_type": "code",
   "execution_count": null,
   "metadata": {
    "vscode": {
     "languageId": "plaintext"
    }
   },
   "outputs": [],
   "source": [
    "data_test_taska = data_labelled_taska[data_labelled_taska['split'] == 'test']\n",
    "data_test_taska"
   ]
  },
  {
   "cell_type": "code",
   "execution_count": null,
   "metadata": {
    "vscode": {
     "languageId": "plaintext"
    }
   },
   "outputs": [],
   "source": [
    "# drop the \"split\" column\n",
    "data_train_taska = data_train_taska.drop('split',  axis=1)\n",
    "data_train_taska"
   ]
  },
  {
   "cell_type": "code",
   "execution_count": null,
   "metadata": {
    "vscode": {
     "languageId": "plaintext"
    }
   },
   "outputs": [],
   "source": [
    "# drop the \"split\" column\n",
    "data_test_taska = data_test_taska.drop('split',  axis=1)\n",
    "data_test_taska"
   ]
  },
  {
   "cell_type": "markdown",
   "metadata": {},
   "source": [
    "# load data for taskb"
   ]
  },
  {
   "cell_type": "code",
   "execution_count": null,
   "metadata": {
    "vscode": {
     "languageId": "plaintext"
    }
   },
   "outputs": [],
   "source": [
    "#load data for taskb and split into train and test\n",
    "selected_columns_taskb = ['text', 'label_category', 'split']\n",
    "data_labelled_taskb = data_labelled[selected_columns_taskb]\n",
    "data_labelled_taskb"
   ]
  },
  {
   "cell_type": "code",
   "execution_count": null,
   "metadata": {
    "vscode": {
     "languageId": "plaintext"
    }
   },
   "outputs": [],
   "source": [
    "#split data\n",
    "data_train_taskb = data_labelled_taskb[data_labelled_taskb['split'] == 'train']\n",
    "data_test_taskb = data_labelled_taskb[data_labelled_taskb['split'] == 'test']"
   ]
  },
  {
   "cell_type": "code",
   "execution_count": null,
   "metadata": {
    "vscode": {
     "languageId": "plaintext"
    }
   },
   "outputs": [],
   "source": [
    "data_train_taskb = data_train_taskb.drop('split',  axis=1)\n",
    "data_test_taskb = data_test_taskb.drop('split',  axis=1)"
   ]
  },
  {
   "cell_type": "markdown",
   "metadata": {},
   "source": [
    "# load data for taskc"
   ]
  },
  {
   "cell_type": "code",
   "execution_count": null,
   "metadata": {
    "vscode": {
     "languageId": "plaintext"
    }
   },
   "outputs": [],
   "source": [
    "#load data for taskc and split into train and test\n",
    "selected_columns_taskc = ['text', 'label_vector', 'split']\n",
    "data_labelled_taskc = data_labelled[selected_columns_taskc]\n",
    "data_labelled_taskc"
   ]
  },
  {
   "cell_type": "code",
   "execution_count": null,
   "metadata": {
    "vscode": {
     "languageId": "plaintext"
    }
   },
   "outputs": [],
   "source": [
    "#split data\n",
    "data_train_taskc = data_labelled_taskc[data_labelled_taskc['split'] == 'train']\n",
    "data_test_taskc = data_labelled_taskc[data_labelled_taskc['split'] == 'test']"
   ]
  },
  {
   "cell_type": "markdown",
   "metadata": {},
   "source": [
    "# data preprocessing"
   ]
  },
  {
   "cell_type": "code",
   "execution_count": null,
   "metadata": {
    "vscode": {
     "languageId": "plaintext"
    }
   },
   "outputs": [],
   "source": [
    "# function clean_text\n",
    "import re\n",
    "def clean_text(text):\n",
    "\n",
    "    text = re.sub(r\"@[A-Za-z0-9]+\", ' ', text)\n",
    "    text = re.sub(r\"https?://[A-Za-z0-9./]+\", ' ', text)\n",
    "    text = re.sub(r\"[^a-zA-z.!?'0-9]\", ' ', text)\n",
    "    text = re.sub('\\t', ' ',  text)\n",
    "    text = re.sub(r\" +\", ' ', text)\n",
    "    text=re.sub(r'[^\\w\\s]','',text)\n",
    "    text=text.replace(\"[URL]\",\"\")\n",
    "    text=text.replace(\"[USER]\",\"\")\n",
    "    text=re.sub(r\"[â€™ºðŸ‡˜Žµ±¤£‘Œ”œ]\",\"\",text)\n",
    "    return text"
   ]
  },
  {
   "cell_type": "code",
   "execution_count": null,
   "metadata": {
    "vscode": {
     "languageId": "plaintext"
    }
   },
   "outputs": [],
   "source": [
    "#Removing the square brackets\n",
    "def remove_between_square_brackets(text):\n",
    "    return re.sub('\\[[^]]*\\]', '', text)\n",
    "\n",
    "#Removing the noisy text\n",
    "def denoise_text(text):\n",
    "    \n",
    "    text = remove_between_square_brackets(text)\n",
    "    return text"
   ]
  },
  {
   "cell_type": "code",
   "execution_count": null,
   "metadata": {
    "vscode": {
     "languageId": "plaintext"
    }
   },
   "outputs": [],
   "source": [
    "# to make all texts lowercase\n",
    "def to_lowercase(input_text):\n",
    "\n",
    "    return input_text.lower()"
   ]
  },
  {
   "cell_type": "code",
   "execution_count": null,
   "metadata": {
    "vscode": {
     "languageId": "plaintext"
    }
   },
   "outputs": [],
   "source": [
    "data_train_taska['text']= data_train_taska['text'].apply(clean_text) \n",
    "data_train_taska['text']= data_train_taska['text'].apply(denoise_text) \n",
    "data_train_taska['text']= data_train_taska['text'].apply(to_lowercase) \n",
    "data_train_taska.head()"
   ]
  },
  {
   "cell_type": "code",
   "execution_count": null,
   "metadata": {
    "vscode": {
     "languageId": "plaintext"
    }
   },
   "outputs": [],
   "source": [
    "data_train_taskb['text']= data_train_taskb['text'].apply(clean_text) \n",
    "data_train_taskb['text']= data_train_taskb['text'].apply(denoise_text) \n",
    "data_train_taskb['text']= data_train_taskb['text'].apply(to_lowercase) \n",
    "data_train_taskb.head()"
   ]
  },
  {
   "cell_type": "code",
   "execution_count": null,
   "metadata": {
    "vscode": {
     "languageId": "plaintext"
    }
   },
   "outputs": [],
   "source": [
    "data_train_taskc['text']= data_train_taskc['text'].apply(clean_text) \n",
    "data_train_taskc['text']= data_train_taskc['text'].apply(denoise_text) \n",
    "data_train_taskc['text']= data_train_taskc['text'].apply(to_lowercase) \n",
    "data_train_taskc.head()"
   ]
  },
  {
   "cell_type": "code",
   "execution_count": null,
   "metadata": {
    "vscode": {
     "languageId": "plaintext"
    }
   },
   "outputs": [],
   "source": [
    "#keep the loaded data for taska so that it can be referenced in other notebooks\n",
    "%store data_train_taska\n",
    "%store data_test_taska\n",
    "\n",
    "%store data_train_taskb\n",
    "%store data_test_taskb\n",
    "\n",
    "%store data_train_taskc\n",
    "%store data_test_taskc"
   ]
  }
 ],
 "metadata": {
  "language_info": {
   "name": "python"
  }
 },
 "nbformat": 4,
 "nbformat_minor": 2
}
